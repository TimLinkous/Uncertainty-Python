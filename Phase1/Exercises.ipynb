{
 "cells": [
  {
   "cell_type": "code",
   "execution_count": 1,
   "id": "54f2c520-cb3f-427c-98ff-5795f8effd0f",
   "metadata": {},
   "outputs": [
    {
     "name": "stdout",
     "output_type": "stream",
     "text": [
      "rain\n",
      "no rain\n",
      "rain\n",
      "no rain\n",
      "no rain\n",
      "no rain\n",
      "no rain\n",
      "no rain\n",
      "no rain\n",
      "no rain\n",
      "no rain\n",
      "no rain\n",
      "rain\n",
      "no rain\n",
      "no rain\n",
      "rain\n",
      "rain\n",
      "rain\n",
      "no rain\n",
      "rain\n"
     ]
    }
   ],
   "source": [
    "import sympy as sym\n",
    "import random\n",
    "\n",
    "#Exercise 1\n",
    "def rain_or_no_rain():\n",
    "    rain_or_not = [\"rain\", \"rain\", \"no rain\", \"no rain\", \"no rain\", \"no rain\",\"no rain\"]\n",
    "    return random.choice(rain_or_not)\n",
    "\n",
    "for _ in range(20):\n",
    "    print(rain_or_no_rain())"
   ]
  },
  {
   "cell_type": "code",
   "execution_count": 3,
   "id": "068c6c74-1d56-4397-8db8-4b48152ec5b0",
   "metadata": {},
   "outputs": [
    {
     "name": "stdout",
     "output_type": "stream",
     "text": [
      "yes\n",
      "yes\n",
      "no\n",
      "no\n",
      "no\n"
     ]
    }
   ],
   "source": [
    "#Exercise 1\n",
    "def one_in_ten():\n",
    "    did_i_get_into_zipcode = [\"yes\"] + [\"no\"] * 9\n",
    "    return random.choice(did_i_get_into_zipcode)\n",
    "    \n",
    "for _ in range(5):\n",
    "    print(one_in_ten())"
   ]
  },
  {
   "cell_type": "code",
   "execution_count": 4,
   "id": "ed1302dd-29e9-4a65-a09a-ff7a50081fe8",
   "metadata": {},
   "outputs": [
    {
     "name": "stdout",
     "output_type": "stream",
     "text": [
      "not rare\n",
      "not rare\n",
      "not rare\n",
      "not rare\n",
      "not rare\n",
      "not rare\n",
      "not rare\n",
      "not rare\n",
      "not rare\n",
      "not rare\n",
      "not rare\n",
      "not rare\n",
      "not rare\n",
      "not rare\n",
      "not rare\n"
     ]
    }
   ],
   "source": [
    "#Exercise 1\n",
    "def one_in_hundred():\n",
    "    rare_item_drop = [\"rare\"] + [\"not rare\"] * 99\n",
    "    return random.choice(rare_item_drop)\n",
    "\n",
    "for _ in range(15):\n",
    "    print(one_in_hundred())"
   ]
  },
  {
   "cell_type": "code",
   "execution_count": 7,
   "id": "0fb28b8d-3193-430e-8912-b8ff1eaee8a9",
   "metadata": {},
   "outputs": [
    {
     "name": "stdout",
     "output_type": "stream",
     "text": [
      "0.5038\n",
      "0.2231\n",
      "0.0\n"
     ]
    }
   ],
   "source": [
    "#Exercise 2\n",
    "\n",
    "ex1_bag = [\"red\"] * 4 + [\"green\"] * 4\n",
    "ex2_bag = [\"red\"] * 4 + [\"green\"] * 4 + [\"yellow\"] * 10\n",
    "ex3_bag = [\"red\"] * 0 + [\"green\"] * 4 + [\"yellow\"] * 10\n",
    "\n",
    "\n",
    "def red_token_sim(bag, number_of_sims):\n",
    "    red_counter = 0\n",
    "    for _ in range(number_of_sims):\n",
    "        if random.choice(bag) == \"red\":\n",
    "            red_counter += 1\n",
    "    return red_counter / number_of_sims\n",
    "\n",
    "print(red_token_sim(ex1_bag, 10000))\n",
    "print(red_token_sim(ex2_bag, 10000))\n",
    "print(red_token_sim(ex3_bag, 20))"
   ]
  },
  {
   "cell_type": "code",
   "execution_count": 8,
   "id": "c26f505f-071e-4bbf-ba72-03f99e7f24f4",
   "metadata": {},
   "outputs": [
    {
     "data": {
      "text/plain": [
       "['red', 'red', 'red', 'blue', 'blue', 'blue', 'blue']"
      ]
     },
     "execution_count": 8,
     "metadata": {},
     "output_type": "execute_result"
    }
   ],
   "source": [
    "#Exercise 3\n",
    "\n",
    "bag = ['red'] * 3 + ['blue'] * 4\n",
    "\n",
    "def pick_token(container):\n",
    "    \"\"\"\n",
    "    A function to randomly sample from a `container`.\n",
    "    \"\"\"\n",
    "    return random.choice(container)\n",
    "\n",
    "    \n",
    "\n"
   ]
  }
 ],
 "metadata": {
  "kernelspec": {
   "display_name": "Python 3 (ipykernel)",
   "language": "python",
   "name": "python3"
  },
  "language_info": {
   "codemirror_mode": {
    "name": "ipython",
    "version": 3
   },
   "file_extension": ".py",
   "mimetype": "text/x-python",
   "name": "python",
   "nbconvert_exporter": "python",
   "pygments_lexer": "ipython3",
   "version": "3.12.4"
  }
 },
 "nbformat": 4,
 "nbformat_minor": 5
}
