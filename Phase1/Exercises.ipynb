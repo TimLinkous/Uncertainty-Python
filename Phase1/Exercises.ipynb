{
 "cells": [
  {
   "cell_type": "code",
   "execution_count": 5,
   "id": "54f2c520-cb3f-427c-98ff-5795f8effd0f",
   "metadata": {},
   "outputs": [
    {
     "name": "stdout",
     "output_type": "stream",
     "text": [
      "no rain\n",
      "rain\n",
      "rain\n",
      "no rain\n",
      "no rain\n",
      "no rain\n",
      "no rain\n",
      "rain\n",
      "no rain\n",
      "no rain\n",
      "no rain\n",
      "no rain\n",
      "no rain\n",
      "no rain\n",
      "no rain\n",
      "rain\n",
      "no rain\n",
      "no rain\n",
      "no rain\n",
      "no rain\n"
     ]
    }
   ],
   "source": [
    "import sympy as sym\n",
    "import random\n",
    "\n",
    "#Exercise 1\n",
    "def rain_or_no_rain():\n",
    "    rain_or_not = [\"rain\", \"rain\", \"no rain\", \"no rain\", \"no rain\", \"no rain\",\"no rain\"]\n",
    "    return random.choice(rain_or_not)\n",
    "\n",
    "for _ in range(20):\n",
    "    print(rain_or_no_rain())"
   ]
  },
  {
   "cell_type": "code",
   "execution_count": 3,
   "id": "068c6c74-1d56-4397-8db8-4b48152ec5b0",
   "metadata": {},
   "outputs": [
    {
     "name": "stdout",
     "output_type": "stream",
     "text": [
      "yes\n",
      "yes\n",
      "no\n",
      "no\n",
      "no\n"
     ]
    }
   ],
   "source": [
    "#Exercise 1\n",
    "def one_in_ten():\n",
    "    did_i_get_into_zipcode = [\"yes\"] + [\"no\"] * 9\n",
    "    return random.choice(did_i_get_into_zipcode)\n",
    "    \n",
    "for _ in range(5):\n",
    "    print(one_in_ten())"
   ]
  },
  {
   "cell_type": "code",
   "execution_count": 4,
   "id": "ed1302dd-29e9-4a65-a09a-ff7a50081fe8",
   "metadata": {},
   "outputs": [
    {
     "name": "stdout",
     "output_type": "stream",
     "text": [
      "not rare\n",
      "not rare\n",
      "not rare\n",
      "not rare\n",
      "not rare\n",
      "not rare\n",
      "not rare\n",
      "not rare\n",
      "not rare\n",
      "not rare\n",
      "not rare\n",
      "not rare\n",
      "not rare\n",
      "not rare\n",
      "not rare\n"
     ]
    }
   ],
   "source": [
    "#Exercise 1\n",
    "def one_in_hundred():\n",
    "    rare_item_drop = [\"rare\"] + [\"not rare\"] * 99\n",
    "    return random.choice(rare_item_drop)\n",
    "\n",
    "for _ in range(15):\n",
    "    print(one_in_hundred())"
   ]
  },
  {
   "cell_type": "code",
   "execution_count": 7,
   "id": "0fb28b8d-3193-430e-8912-b8ff1eaee8a9",
   "metadata": {},
   "outputs": [
    {
     "name": "stdout",
     "output_type": "stream",
     "text": [
      "0.5038\n",
      "0.2231\n",
      "0.0\n"
     ]
    }
   ],
   "source": [
    "#Exercise 2\n",
    "\n",
    "ex1_bag = [\"red\"] * 4 + [\"green\"] * 4\n",
    "ex2_bag = [\"red\"] * 4 + [\"green\"] * 4 + [\"yellow\"] * 10\n",
    "ex3_bag = [\"red\"] * 0 + [\"green\"] * 4 + [\"yellow\"] * 10\n",
    "\n",
    "\n",
    "def red_token_sim(bag, number_of_sims):\n",
    "    red_counter = 0\n",
    "    for _ in range(number_of_sims):\n",
    "        if random.choice(bag) == \"red\":\n",
    "            red_counter += 1\n",
    "    return red_counter / number_of_sims\n",
    "\n",
    "print(red_token_sim(ex1_bag, 10000))\n",
    "print(red_token_sim(ex2_bag, 10000))\n",
    "print(red_token_sim(ex3_bag, 20))"
   ]
  },
  {
   "cell_type": "code",
   "execution_count": 69,
   "id": "c26f505f-071e-4bbf-ba72-03f99e7f24f4",
   "metadata": {},
   "outputs": [
    {
     "data": {
      "text/plain": [
       "0.42705"
      ]
     },
     "execution_count": 69,
     "metadata": {},
     "output_type": "execute_result"
    }
   ],
   "source": [
    "#Exercise 3\n",
    "\n",
    "bag = ['red'] * 3 + ['blue'] * 4\n",
    "\n",
    "def pick_token(container):\n",
    "    \"\"\"\n",
    "    A function to randomly sample from a `container`.\n",
    "    \"\"\"\n",
    "    return random.choice(container)\n",
    "\n",
    "number_of_reps = 100000\n",
    "samples = [pick_token(container=bag) for rep in range(number_of_reps)]\n",
    "len(samples)\n",
    "\n",
    "#probability of picking a red token\n",
    "sum(token == 'red' for token in samples) / len(samples)\n"
   ]
  },
  {
   "cell_type": "code",
   "execution_count": 70,
   "id": "78337c48-204b-4df5-9c6f-457be820ddd9",
   "metadata": {},
   "outputs": [
    {
     "data": {
      "text/plain": [
       "0.574"
      ]
     },
     "execution_count": 70,
     "metadata": {},
     "output_type": "execute_result"
    }
   ],
   "source": [
    "#probability of flipping heads\n",
    "def flipping_heads(bag):\n",
    "    token = pick_token(container=bag)\n",
    "    if token == 'red':\n",
    "        chance_for_heads = 4 / 5\n",
    "    else:\n",
    "        chance_for_heads = 2 / 5\n",
    "\n",
    "    if random.random() < chance_for_heads:\n",
    "        coin = 'heads'\n",
    "    else:\n",
    "        coin = 'tails'\n",
    "    return token, coin\n",
    "    \n",
    "flipping_heads(bag)\n",
    "\n",
    "number_of_flips = 10000\n",
    "sample = [flipping_heads(bag=bag) for flip in range(number_of_flips)]\n",
    "sum(coin == 'heads' for token, coin in sample)/ number_of_flips"
   ]
  },
  {
   "cell_type": "code",
   "execution_count": 71,
   "id": "1b9952a2-3ecb-472f-b63b-904d81191245",
   "metadata": {},
   "outputs": [
    {
     "data": {
      "text/plain": [
       "0.6019163763066202"
      ]
     },
     "execution_count": 71,
     "metadata": {},
     "output_type": "execute_result"
    }
   ],
   "source": [
    "#If heads --probability of having selected a red token.\n",
    "sample_with_heads = [(token, coin) for token, coin in sample if coin =='heads']\n",
    "sum(token =='red' for token,coin in sample_with_heads) / len(sample_with_heads)\n"
   ]
  },
  {
   "cell_type": "code",
   "execution_count": 6,
   "id": "f8664c30-4838-4fa2-95e3-1ae908b9da18",
   "metadata": {},
   "outputs": [
    {
     "name": "stdout",
     "output_type": "stream",
     "text": [
      "0.0333333333333333\n"
     ]
    }
   ],
   "source": [
    "\n",
    "\n",
    "car = 1/2\n",
    "bike = 1/6\n",
    "walk = 1/3\n",
    "\n",
    "late_by_car = 1/5\n",
    "late_by_bike = 2/5\n",
    "late_by_walk = 1/10\n",
    "\n",
    "#travels by foot and is late\n",
    "foot_and_late = walk * late_by_walk\n",
    "print(foot_and_late)"
   ]
  },
  {
   "cell_type": "code",
   "execution_count": 12,
   "id": "682e389c-8642-494f-b699-bd99f9b5d0c2",
   "metadata": {},
   "outputs": [
    {
     "name": "stdout",
     "output_type": "stream",
     "text": [
      "0.200000000000000\n",
      "0.800000000000000\n"
     ]
    }
   ],
   "source": [
    "#probability of not being late\n",
    "late = (car * late_by_car) + (bike * late_by_bike) + (walk * late_by_walk)\n",
    "print(late)\n",
    "#not late\n",
    "not_late = 1 - late\n",
    "print(not_late)"
   ]
  },
  {
   "cell_type": "code",
   "execution_count": 13,
   "id": "3c8cccc1-f325-43af-8594-3ffb5fe70099",
   "metadata": {},
   "outputs": [
    {
     "name": "stdout",
     "output_type": "stream",
     "text": [
      "0.833333333333333\n"
     ]
    }
   ],
   "source": [
    "#an individual is late, approximate the probability that they did not travel on foot.\n",
    "late_and_not_foot = (car * late_by_car) + (bike * late_by_bike)\n",
    "result = late_and_not_foot / late\n",
    "print(result)"
   ]
  },
  {
   "cell_type": "code",
   "execution_count": 28,
   "id": "e99764ae-877d-4bd5-a4f5-bbf5112ad04d",
   "metadata": {},
   "outputs": [
    {
     "name": "stdout",
     "output_type": "stream",
     "text": [
      "Prob of travel by foot and being late: 0.033024\n",
      "Prob of not being late: 0.800416\n",
      "Prob of being late: 0.199584\n"
     ]
    }
   ],
   "source": [
    "## same methodology as above, but with python fuunctions and samples\n",
    "\n",
    "travel_probabilities = {\n",
    "    \"car\": 1/2,\n",
    "    \"bicycle\" : 1/6,\n",
    "    \"foot\": 1/3\n",
    "}\n",
    "\n",
    "late_probabilities = {\n",
    "    \"car\" : 1/5,\n",
    "    \"bicycle\": 2/5,\n",
    "    \"foot\": 1/10\n",
    "}\n",
    "\n",
    "def travel_and_lateness():\n",
    "    travel_mode = random.choices(list(travel_probabilities.keys()), weights=list(travel_probabilities.values()), k=1)[0]\n",
    "\n",
    "    if random.random() < late_probabilities[travel_mode]:\n",
    "        late = True\n",
    "    else:\n",
    "        late = False\n",
    "\n",
    "    return travel_mode, late\n",
    "\n",
    "\n",
    "num_of_samples = 1000000\n",
    "sample = [travel_and_lateness() for _ in range(num_of_samples)]\n",
    "\n",
    "#Travel by foot and is late\n",
    "prob_travel_by_foot_and_late = sum(1 for mode, late in sample if mode == 'foot' and late) / num_of_samples\n",
    "print(f\"Prob of travel by foot and being late: {prob_travel_by_foot_and_late}\")\n",
    "\n",
    "##Prob of being late and not late\n",
    "prob_not_late = sum(1 for mode, late in sample if not late) / num_of_samples\n",
    "print(f'Prob of not being late: {prob_not_late}')\n",
    "prob_late = sum(1 for mode, late in sample if late) / num_of_samples\n",
    "print(f'Prob of being late: {prob_late}')\n",
    "\n",
    "##Given that an individual is late, approximate the probability that they did not travel on foot.\n",
    "prob_not_foot_given_late = sum(1 for mode, late in sample if late and mode != 'foot') / sum(1 for mode, late in sample if late)\n",
    "print(f'Prob of not traveling on foot, given they are late: {prob_not_foot_given_late}')\n",
    "\n",
    "                \n"
   ]
  },
  {
   "cell_type": "markdown",
   "id": "ebceced5",
   "metadata": {},
   "source": []
  },
  {
   "cell_type": "code",
   "execution_count": null,
   "id": "e37b504a-0010-4ad9-957c-1ab6f247a636",
   "metadata": {},
   "outputs": [],
   "source": []
  },
  {
   "cell_type": "code",
   "execution_count": null,
   "id": "01483c0f-96c1-47b2-bd5c-e5614773529e",
   "metadata": {},
   "outputs": [],
   "source": []
  }
 ],
 "metadata": {
  "kernelspec": {
   "display_name": "Python 3 (ipykernel)",
   "language": "python",
   "name": "python3"
  },
  "language_info": {
   "codemirror_mode": {
    "name": "ipython",
    "version": 3
   },
   "file_extension": ".py",
   "mimetype": "text/x-python",
   "name": "python",
   "nbconvert_exporter": "python",
   "pygments_lexer": "ipython3",
   "version": "3.12.4"
  }
 },
 "nbformat": 4,
 "nbformat_minor": 5
}
